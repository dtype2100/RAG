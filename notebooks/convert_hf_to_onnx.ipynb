{
 "cells": [
  {
   "cell_type": "code",
   "execution_count": 30,
   "id": "7820ba94",
   "metadata": {},
   "outputs": [],
   "source": [
    "import torch\n",
    "from transformers import AutoTokenizer, AutoModel\n",
    "import onnx\n",
    "import onnxruntime\n",
    "from pathlib import Path\n",
    "import os\n"
   ]
  },
  {
   "cell_type": "code",
   "execution_count": 31,
   "id": "7d395ebb",
   "metadata": {},
   "outputs": [],
   "source": [
    "# 현재 작업 디렉토리 기준으로 상대 경로 설정\n",
    "model_path = \"../AI/embedding/dragonkue/multilingual-e5-small-ko\"\n",
    "onnx_path = \"../AI/embedding/onnx/multilingual-e5-small-ko.onnx\""
   ]
  },
  {
   "cell_type": "code",
   "execution_count": 32,
   "id": "7375dd8f",
   "metadata": {},
   "outputs": [
    {
     "name": "stdout",
     "output_type": "stream",
     "text": [
      "로컬 모델을 로드했습니다: ../AI/embedding/dragonkue/multilingual-e5-small-ko\n"
     ]
    }
   ],
   "source": [
    "# 모델과 토크나이저 로드 (로컬 경로 사용)\n",
    "tokenizer = AutoTokenizer.from_pretrained(str(model_path) , use_fast=True)\n",
    "model = AutoModel.from_pretrained(str(model_path))\n",
    "print(f\"로컬 모델을 로드했습니다: {model_path}\")"
   ]
  },
  {
   "cell_type": "code",
   "execution_count": 14,
   "id": "e62af2f5",
   "metadata": {},
   "outputs": [
    {
     "data": {
      "text/plain": [
       "BertModel(\n",
       "  (embeddings): BertEmbeddings(\n",
       "    (word_embeddings): Embedding(250037, 384, padding_idx=0)\n",
       "    (position_embeddings): Embedding(512, 384)\n",
       "    (token_type_embeddings): Embedding(2, 384)\n",
       "    (LayerNorm): LayerNorm((384,), eps=1e-12, elementwise_affine=True)\n",
       "    (dropout): Dropout(p=0.1, inplace=False)\n",
       "  )\n",
       "  (encoder): BertEncoder(\n",
       "    (layer): ModuleList(\n",
       "      (0-11): 12 x BertLayer(\n",
       "        (attention): BertAttention(\n",
       "          (self): BertSdpaSelfAttention(\n",
       "            (query): Linear(in_features=384, out_features=384, bias=True)\n",
       "            (key): Linear(in_features=384, out_features=384, bias=True)\n",
       "            (value): Linear(in_features=384, out_features=384, bias=True)\n",
       "            (dropout): Dropout(p=0.1, inplace=False)\n",
       "          )\n",
       "          (output): BertSelfOutput(\n",
       "            (dense): Linear(in_features=384, out_features=384, bias=True)\n",
       "            (LayerNorm): LayerNorm((384,), eps=1e-12, elementwise_affine=True)\n",
       "            (dropout): Dropout(p=0.1, inplace=False)\n",
       "          )\n",
       "        )\n",
       "        (intermediate): BertIntermediate(\n",
       "          (dense): Linear(in_features=384, out_features=1536, bias=True)\n",
       "          (intermediate_act_fn): GELUActivation()\n",
       "        )\n",
       "        (output): BertOutput(\n",
       "          (dense): Linear(in_features=1536, out_features=384, bias=True)\n",
       "          (LayerNorm): LayerNorm((384,), eps=1e-12, elementwise_affine=True)\n",
       "          (dropout): Dropout(p=0.1, inplace=False)\n",
       "        )\n",
       "      )\n",
       "    )\n",
       "  )\n",
       "  (pooler): BertPooler(\n",
       "    (dense): Linear(in_features=384, out_features=384, bias=True)\n",
       "    (activation): Tanh()\n",
       "  )\n",
       ")"
      ]
     },
     "execution_count": 14,
     "metadata": {},
     "output_type": "execute_result"
    }
   ],
   "source": [
    "# 모델을 평가 모드로 설정\n",
    "model.eval()"
   ]
  },
  {
   "cell_type": "code",
   "execution_count": 15,
   "id": "62f28dcb",
   "metadata": {},
   "outputs": [],
   "source": [
    "# 더미 입력 생성 (배치 크기 1, 시퀀스 길이 512)\n",
    "dummy_input = torch.randint(0, tokenizer.vocab_size, (1, 512))"
   ]
  },
  {
   "cell_type": "code",
   "execution_count": 21,
   "id": "2ab235fe",
   "metadata": {},
   "outputs": [
    {
     "name": "stdout",
     "output_type": "stream",
     "text": [
      "ONNX 모델이 저장되었습니다: ../AI/embedding/onnx/multilingual-e5-small-ko.onnx\n"
     ]
    }
   ],
   "source": [
    "# ONNX 모델 변환\n",
    "# PyTorch 모델을 ONNX 형식으로 변환\n",
    "# - model: 변환할 PyTorch 모델\n",
    "# - dummy_input: 모델 입력 형태를 정의하는 더미 데이터\n",
    "# - onnx_path: 저장할 ONNX 파일 경로\n",
    "torch.onnx.export(\n",
    "    model,                          # 변환할 PyTorch 모델\n",
    "    dummy_input,                    # 모델 입력 형태 정의용 더미 데이터\n",
    "    onnx_path,                      # ONNX 파일 저장 경로\n",
    "    export_params=True,             # 모델 파라미터를 ONNX 파일에 포함\n",
    "    opset_version=14,               # ONNX 연산자 세트 버전 (14로 변경하여 scaled_dot_product_attention 지원)\n",
    "    do_constant_folding=True,       # 상수 폴딩 최적화 활성화 (추론 속도 향상)\n",
    "    input_names=['input_ids'],      # 입력 텐서의 이름 지정\n",
    "    output_names=['last_hidden_state'],  # 출력 텐서의 이름 지정\n",
    "    dynamic_axes={                  # 동적 축 설정 (배치 크기와 시퀀스 길이를 가변으로 설정)\n",
    "        'input_ids': {0: 'batch_size', 1: 'sequence_length'},           # 입력: 배치 크기와 시퀀스 길이 가변\n",
    "        'last_hidden_state': {0: 'batch_size', 1: 'sequence_length'}    # 출력: 배치 크기와 시퀀스 길이 가변\n",
    "    }\n",
    ")\n",
    "\n",
    "print(f\"ONNX 모델이 저장되었습니다: {onnx_path}\")"
   ]
  },
  {
   "cell_type": "code",
   "execution_count": null,
   "id": "2f281102",
   "metadata": {},
   "outputs": [],
   "source": [
    "# optimum 라이브러리를 사용한 ONNX 변환 (추천 방법)\n",
    "from optimum.onnxruntime import ORTModelForFeatureExtraction\n",
    "from pathlib import Path\n",
    "\n",
    "# 출력 디렉토리 생성\n",
    "onnx_dir = Path(\"../AI/embedding/onnx/multilingual-e5-small-ko\")\n",
    "onnx_dir.mkdir(parents=True, exist_ok=True)\n",
    "\n",
    "# ONNX 모델 변환 및 저장\n",
    "ort_model = ORTModelForFeatureExtraction.from_pretrained(\n",
    "    model_path, \n",
    "    export=True,  # ONNX 변환 활성화\n",
    "    use_cache=False,  # 캐시 사용 안함\n",
    "    file_name=\"model.onnx\",\n",
    "    provider=\"CPUExecutionProvider\"  # CPU 실행 제공자\n",
    ")\n",
    "\n",
    "# 모델과 토크나이저를 지정된 디렉토리에 저장\n",
    "ort_model.save_pretrained(onnx_dir)\n",
    "tokenizer.save_pretrained(onnx_dir)\n",
    "\n",
    "print(f\"ONNX 모델이 저장되었습니다: {onnx_dir}\")\n",
    "print(f\"모델 파일: {onnx_dir / 'model.onnx'}\")\n",
    "print(f\"토크나이저도 함께 저장되었습니다.\")\n"
   ]
  },
  {
   "cell_type": "code",
   "execution_count": 22,
   "id": "16383a0d",
   "metadata": {},
   "outputs": [
    {
     "name": "stdout",
     "output_type": "stream",
     "text": [
      "ONNX 모델 검증 완료\n"
     ]
    }
   ],
   "source": [
    "# ONNX 모델 검증\n",
    "onnx_model = onnx.load(onnx_path)\n",
    "onnx.checker.check_model(onnx_model)\n",
    "print(\"ONNX 모델 검증 완료\")"
   ]
  },
  {
   "cell_type": "code",
   "execution_count": 23,
   "id": "67f81976",
   "metadata": {},
   "outputs": [
    {
     "name": "stdout",
     "output_type": "stream",
     "text": [
      "ONNX Runtime 추론 테스트 완료\n"
     ]
    }
   ],
   "source": [
    "# ONNX Runtime으로 추론 테스트\n",
    "ort_session = onnxruntime.InferenceSession(str(onnx_path))\n",
    "ort_inputs = {ort_session.get_inputs()[0].name: dummy_input.numpy()}\n",
    "ort_outputs = ort_session.run(None, ort_inputs)\n",
    "print(\"ONNX Runtime 추론 테스트 완료\")"
   ]
  },
  {
   "cell_type": "code",
   "execution_count": null,
   "id": "8b9046c9",
   "metadata": {},
   "outputs": [],
   "source": []
  }
 ],
 "metadata": {
  "kernelspec": {
   "display_name": ".venv",
   "language": "python",
   "name": "python3"
  },
  "language_info": {
   "codemirror_mode": {
    "name": "ipython",
    "version": 3
   },
   "file_extension": ".py",
   "mimetype": "text/x-python",
   "name": "python",
   "nbconvert_exporter": "python",
   "pygments_lexer": "ipython3",
   "version": "3.11.4"
  }
 },
 "nbformat": 4,
 "nbformat_minor": 5
}
