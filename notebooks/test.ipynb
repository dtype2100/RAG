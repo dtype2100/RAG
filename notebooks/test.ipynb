{
 "cells": [
  {
   "cell_type": "markdown",
   "id": "a65bcff2",
   "metadata": {},
   "source": [
    "- 데이터 수집: https://www.federalregister.gov/developers/documentation/api/v1#/"
   ]
  },
  {
   "cell_type": "markdown",
   "id": "b3898e56",
   "metadata": {},
   "source": [
    "# Baseline"
   ]
  },
  {
   "cell_type": "code",
   "execution_count": 7,
   "id": "9b4e2e33",
   "metadata": {},
   "outputs": [
    {
     "name": "stdout",
     "output_type": "stream",
     "text": [
      "제목: Addition of Nicaragua to the List of Regions Affected With Screwworm\n",
      "발행일: 2025-01-16\n",
      "요약: We are advising the public that we have added Nicaragua to the Animal and Plant Health Inspection Service (APHIS) list maintained on the APHIS website of regions considered affected with screwworm. We took this action because of the confirmation of screwworm in this region.\n",
      "URL: https://www.federalregister.gov/documents/2025/01/16/2025-01000/addition-of-nicaragua-to-the-list-of-regions-affected-with-screwworm\n"
     ]
    }
   ],
   "source": [
    "import requests\n",
    "\n",
    "API_BASE = \"https://www.federalregister.gov/api/v1\"\n",
    "doc_num  = \"2025-1000\"\n",
    "fields   = [\"abstract\", \"title\", \"publication_date\", \"html_url\"]\n",
    "\n",
    "resp = requests.get(\n",
    "    f\"{API_BASE}/documents/{doc_num}.json\",\n",
    "    params={ \"fields[]\": fields }\n",
    ")\n",
    "resp.raise_for_status()\n",
    "\n",
    "data = resp.json()\n",
    "print(\"제목:\", data.get(\"title\"))\n",
    "print(\"발행일:\", data.get(\"publication_date\"))\n",
    "print(\"요약:\", data.get(\"abstract\"))\n",
    "print(\"URL:\", data.get(\"html_url\"))\n"
   ]
  },
  {
   "cell_type": "markdown",
   "id": "1ec55da4",
   "metadata": {},
   "source": [
    "# 최신순"
   ]
  },
  {
   "cell_type": "code",
   "execution_count": 10,
   "id": "c2001cbd",
   "metadata": {},
   "outputs": [
    {
     "name": "stdout",
     "output_type": "stream",
     "text": [
      "응답에 포함된 키: ['count', 'description', 'total_pages', 'next_page_url', 'results']\n",
      "가장 최근 문서:\n",
      "- 번호       : 2025-13193\n",
      "- 제목       : Amending the Administrative Procedures With Respect to the Import and Export of Natural Gas\n",
      "- 발행일     : 2025-07-14\n",
      "- 요약(abstract): The Department of Energy (DOE) is publishing this document to respond to comments received on the May 16, 2025, direct final rule. As a result, DOE delays the effective date of the direct final rule on the administrative procedures regarding the Office of Fossil Energy's (FE) filing requirements for the import and export of natural gas.\n",
      "- URL        : https://www.federalregister.gov/documents/2025/07/14/2025-13193/amending-the-administrative-procedures-with-respect-to-the-import-and-export-of-natural-gas\n"
     ]
    }
   ],
   "source": [
    "import requests\n",
    "\n",
    "API_BASE = \"https://www.federalregister.gov/api/v1\"\n",
    "params = {\n",
    "    \"order\": \"newest\",            # 최신순\n",
    "    \"per_page\": 1,                # 한 건만\n",
    "    # 필요하다면 'conditions[...]' 으로 필터 추가\n",
    "    \"fields[]\": [\n",
    "        \"document_number\",\n",
    "        \"title\",\n",
    "        \"publication_date\",\n",
    "        \"abstract\",\n",
    "        \"html_url\",\n",
    "    ],\n",
    "}\n",
    "\n",
    "# ✔ 검색용 엔드포인트 (/documents.json)\n",
    "resp = requests.get(f\"{API_BASE}/documents.json\", params=params)\n",
    "resp.raise_for_status()\n",
    "\n",
    "data = resp.json()\n",
    "print(\"응답에 포함된 키:\", list(data.keys()))\n",
    "# -> ['results', 'count', 'next_page_url', ...]\n",
    "\n",
    "latest = data[\"results\"][0]\n",
    "print(\"가장 최근 문서:\")\n",
    "print(f\"- 번호       : {latest['document_number']}\")\n",
    "print(f\"- 제목       : {latest['title']}\")\n",
    "print(f\"- 발행일     : {latest['publication_date']}\")\n",
    "print(f\"- 요약(abstract): {latest.get('abstract')}\")\n",
    "print(f\"- URL        : {latest['html_url']}\")\n"
   ]
  },
  {
   "cell_type": "markdown",
   "id": "bc4e8cc6",
   "metadata": {},
   "source": [
    "# 특정 기간"
   ]
  },
  {
   "cell_type": "code",
   "execution_count": 12,
   "id": "db4f08f3",
   "metadata": {},
   "outputs": [
    {
     "name": "stdout",
     "output_type": "stream",
     "text": [
      "2025년 문서 총 5000건 수집 완료\n",
      "2025-07-14 2025-13193 Amending the Administrative Procedures With Respect to the Import and Export of Natural Gas\n",
      "2025-07-14 2025-13173 Sunshine Act Meetings\n",
      "2025-07-14 2025-13167 Sunshine Act Meetings\n",
      "2025-07-14 2025-13166 Agency Information Collection Activities; Submission to the Office of Management and Budget (OMB) for Review and Approval; Comment Request; Surfclam/Ocean Quahog Individual Transferable Quota Administration\n",
      "2025-07-14 2025-13165 Agency Information Collection Activities; Submission to the Office of Management and Budget (OMB) for Review and Approval; Comment Request; Alaska Region Bering Sea and Aleutian Islands Crab Economic Data Reports\n"
     ]
    }
   ],
   "source": [
    "import requests\n",
    "\n",
    "API_BASE = \"https://www.federalregister.gov/api/v1\"\n",
    "YEAR = \"2025\"\n",
    "\n",
    "def fetch_all_docs_for_year(year: str):\n",
    "    all_docs = []\n",
    "    params = {\n",
    "        # 연도 전체를 YYYY-MM-DD 범위로 지정\n",
    "        \"conditions[publication_date][]\": f\"{year}-01-01\",\n",
    "        \"conditions[publication_date][]\": f\"{year}-12-31\",\n",
    "        \"per_page\": 100,       # 최대 100건씩\n",
    "        \"order\": \"newest\",     # 최신순이든 상관없음\n",
    "        \"fields[]\": [\n",
    "            \"document_number\",\n",
    "            \"title\",\n",
    "            \"publication_date\",\n",
    "            \"html_url\"\n",
    "        ],\n",
    "    }\n",
    "\n",
    "    # 첫 페이지 URL\n",
    "    url = f\"{API_BASE}/documents.json\"\n",
    "    while url:\n",
    "        resp = requests.get(url, params=params)\n",
    "        resp.raise_for_status()\n",
    "        data = resp.json()\n",
    "\n",
    "        # 결과 누적\n",
    "        all_docs.extend(data.get(\"results\", []))\n",
    "\n",
    "        # 다음 페이지로 이동 (params는 이후 무시됨)\n",
    "        url = data.get(\"next_page_url\")\n",
    "\n",
    "        # 페이지네이션 파라미터는 처음 한 번만\n",
    "        params = {}\n",
    "\n",
    "    return all_docs\n",
    "\n",
    "\n",
    "docs_2025 = fetch_all_docs_for_year(YEAR)\n",
    "print(f\"2025년 문서 총 {len(docs_2025)}건 수집 완료\")\n",
    "# 예시: 처음 5건 출력\n",
    "for d in docs_2025[:5]:\n",
    "    print(d[\"publication_date\"], d[\"document_number\"], d[\"title\"])\n"
   ]
  },
  {
   "cell_type": "code",
   "execution_count": null,
   "id": "b2394a5e",
   "metadata": {},
   "outputs": [],
   "source": []
  }
 ],
 "metadata": {
  "kernelspec": {
   "display_name": ".venv",
   "language": "python",
   "name": "python3"
  },
  "language_info": {
   "codemirror_mode": {
    "name": "ipython",
    "version": 3
   },
   "file_extension": ".py",
   "mimetype": "text/x-python",
   "name": "python",
   "nbconvert_exporter": "python",
   "pygments_lexer": "ipython3",
   "version": "3.11.4"
  }
 },
 "nbformat": 4,
 "nbformat_minor": 5
}
