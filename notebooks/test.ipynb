{
 "cells": [
  {
   "cell_type": "markdown",
   "id": "a65bcff2",
   "metadata": {},
   "source": [
    "- 데이터 수집: https://www.federalregister.gov/developers/documentation/api/v1#/"
   ]
  },
  {
   "cell_type": "markdown",
   "id": "b3898e56",
   "metadata": {},
   "source": [
    "# Baseline"
   ]
  },
  {
   "cell_type": "code",
   "execution_count": 7,
   "id": "9b4e2e33",
   "metadata": {},
   "outputs": [
    {
     "name": "stdout",
     "output_type": "stream",
     "text": [
      "제목: Addition of Nicaragua to the List of Regions Affected With Screwworm\n",
      "발행일: 2025-01-16\n",
      "요약: We are advising the public that we have added Nicaragua to the Animal and Plant Health Inspection Service (APHIS) list maintained on the APHIS website of regions considered affected with screwworm. We took this action because of the confirmation of screwworm in this region.\n",
      "URL: https://www.federalregister.gov/documents/2025/01/16/2025-01000/addition-of-nicaragua-to-the-list-of-regions-affected-with-screwworm\n"
     ]
    }
   ],
   "source": [
    "import requests\n",
    "\n",
    "API_BASE = \"https://www.federalregister.gov/api/v1\"\n",
    "doc_num  = \"2025-1000\"\n",
    "fields   = [\"abstract\", \"title\", \"publication_date\", \"html_url\"]\n",
    "\n",
    "resp = requests.get(\n",
    "    f\"{API_BASE}/documents/{doc_num}.json\",\n",
    "    params={ \"fields[]\": fields }\n",
    ")\n",
    "resp.raise_for_status()\n",
    "\n",
    "data = resp.json()\n",
    "print(\"제목:\", data.get(\"title\"))\n",
    "print(\"발행일:\", data.get(\"publication_date\"))\n",
    "print(\"요약:\", data.get(\"abstract\"))\n",
    "print(\"URL:\", data.get(\"html_url\"))\n"
   ]
  },
  {
   "cell_type": "markdown",
   "id": "1ec55da4",
   "metadata": {},
   "source": [
    "# 최신순"
   ]
  },
  {
   "cell_type": "code",
   "execution_count": 10,
   "id": "c2001cbd",
   "metadata": {},
   "outputs": [
    {
     "name": "stdout",
     "output_type": "stream",
     "text": [
      "응답에 포함된 키: ['count', 'description', 'total_pages', 'next_page_url', 'results']\n",
      "가장 최근 문서:\n",
      "- 번호       : 2025-13193\n",
      "- 제목       : Amending the Administrative Procedures With Respect to the Import and Export of Natural Gas\n",
      "- 발행일     : 2025-07-14\n",
      "- 요약(abstract): The Department of Energy (DOE) is publishing this document to respond to comments received on the May 16, 2025, direct final rule. As a result, DOE delays the effective date of the direct final rule on the administrative procedures regarding the Office of Fossil Energy's (FE) filing requirements for the import and export of natural gas.\n",
      "- URL        : https://www.federalregister.gov/documents/2025/07/14/2025-13193/amending-the-administrative-procedures-with-respect-to-the-import-and-export-of-natural-gas\n"
     ]
    }
   ],
   "source": [
    "import requests\n",
    "\n",
    "API_BASE = \"https://www.federalregister.gov/api/v1\"\n",
    "params = {\n",
    "    \"order\": \"newest\",            # 최신순\n",
    "    \"per_page\": 1,                # 한 건만\n",
    "    # 필요하다면 'conditions[...]' 으로 필터 추가\n",
    "    \"fields[]\": [\n",
    "        \"document_number\",\n",
    "        \"title\",\n",
    "        \"publication_date\",\n",
    "        \"abstract\",\n",
    "        \"html_url\",\n",
    "    ],\n",
    "}\n",
    "\n",
    "# ✔ 검색용 엔드포인트 (/documents.json)\n",
    "resp = requests.get(f\"{API_BASE}/documents.json\", params=params)\n",
    "resp.raise_for_status()\n",
    "\n",
    "data = resp.json()\n",
    "print(\"응답에 포함된 키:\", list(data.keys()))\n",
    "# -> ['results', 'count', 'next_page_url', ...]\n",
    "\n",
    "latest = data[\"results\"][0]\n",
    "print(\"가장 최근 문서:\")\n",
    "print(f\"- 번호       : {latest['document_number']}\")\n",
    "print(f\"- 제목       : {latest['title']}\")\n",
    "print(f\"- 발행일     : {latest['publication_date']}\")\n",
    "print(f\"- 요약(abstract): {latest.get('abstract')}\")\n",
    "print(f\"- URL        : {latest['html_url']}\")\n"
   ]
  },
  {
   "cell_type": "markdown",
   "id": "bc4e8cc6",
   "metadata": {},
   "source": [
    "# 특정 기간"
   ]
  },
  {
   "cell_type": "code",
   "execution_count": 12,
   "id": "db4f08f3",
   "metadata": {},
   "outputs": [
    {
     "name": "stdout",
     "output_type": "stream",
     "text": [
      "2025년 문서 총 5000건 수집 완료\n",
      "2025-07-14 2025-13193 Amending the Administrative Procedures With Respect to the Import and Export of Natural Gas\n",
      "2025-07-14 2025-13173 Sunshine Act Meetings\n",
      "2025-07-14 2025-13167 Sunshine Act Meetings\n",
      "2025-07-14 2025-13166 Agency Information Collection Activities; Submission to the Office of Management and Budget (OMB) for Review and Approval; Comment Request; Surfclam/Ocean Quahog Individual Transferable Quota Administration\n",
      "2025-07-14 2025-13165 Agency Information Collection Activities; Submission to the Office of Management and Budget (OMB) for Review and Approval; Comment Request; Alaska Region Bering Sea and Aleutian Islands Crab Economic Data Reports\n"
     ]
    }
   ],
   "source": [
    "import requests\n",
    "\n",
    "API_BASE = \"https://www.federalregister.gov/api/v1\"\n",
    "YEAR = \"2025\"\n",
    "\n",
    "def fetch_all_docs_for_year(year: str):\n",
    "    all_docs = []\n",
    "    params = {\n",
    "        # 연도 전체를 YYYY-MM-DD 범위로 지정\n",
    "        \"conditions[publication_date][]\": f\"{year}-01-01\",\n",
    "        \"conditions[publication_date][]\": f\"{year}-12-31\",\n",
    "        \"per_page\": 100,       # 최대 100건씩\n",
    "        \"order\": \"newest\",     # 최신순이든 상관없음\n",
    "        \"fields[]\": [\n",
    "            \"document_number\",\n",
    "            \"title\",\n",
    "            \"publication_date\",\n",
    "            \"html_url\"\n",
    "        ],\n",
    "    }\n",
    "\n",
    "    # 첫 페이지 URL\n",
    "    url = f\"{API_BASE}/documents.json\"\n",
    "    while url:\n",
    "        resp = requests.get(url, params=params)\n",
    "        resp.raise_for_status()\n",
    "        data = resp.json()\n",
    "\n",
    "        # 결과 누적\n",
    "        all_docs.extend(data.get(\"results\", []))\n",
    "\n",
    "        # 다음 페이지로 이동 (params는 이후 무시됨)\n",
    "        url = data.get(\"next_page_url\")\n",
    "\n",
    "        # 페이지네이션 파라미터는 처음 한 번만\n",
    "        params = {}\n",
    "\n",
    "    return all_docs\n",
    "\n",
    "\n",
    "docs_2025 = fetch_all_docs_for_year(YEAR)\n",
    "print(f\"2025년 문서 총 {len(docs_2025)}건 수집 완료\")\n",
    "# 예시: 처음 5건 출력\n",
    "for d in docs_2025[:5]:\n",
    "    print(d[\"publication_date\"], d[\"document_number\"], d[\"title\"])\n"
   ]
  },
  {
   "cell_type": "markdown",
   "id": "f0a5214f",
   "metadata": {},
   "source": [
    "# 연합뉴스 RSS\n",
    "- https://www.yonhapnewstv.co.kr/add/rss"
   ]
  },
  {
   "cell_type": "code",
   "execution_count": 14,
   "id": "b2394a5e",
   "metadata": {},
   "outputs": [
    {
     "name": "stdout",
     "output_type": "stream",
     "text": [
      "Mon, 14 Jul 2025 23:16:51 +0900 금감위? 금소원?…조직개편 장고에 정책 공백 우려\n",
      "https://www.yonhapnewstv.co.kr/news/MYH20250714231633492\n",
      "[앵커] 정부의 금융당국 조직 개편 논의가 길어지면서 새 금융당국 수장 임명도 늦어지고 있습니다. 원화 기반 스테이블코인 도입 등 현안이 산적한 가운데 정책 공백에 대한 우려가 나옵니다. 배시진 기자입니다. [기자] 정부가 지난주 19개 부처 장관 인선을 모두 마무리했지만, 금융당국 수장 지명 소식은 아직입니다. 대선 직후 사의를 표한 김병환 금융위원장의 후임이 정해지지 않았고, 김소영 전 금융위 부위원장과 이복현 전 금융감독원장 자리도 ...\n",
      "--------------------------------------------------------------------------------\n",
      "Mon, 14 Jul 2025 22:37:47 +0900 서울에서 바나나가?…폭염에 도심 한복판서 열매\n",
      "https://www.yonhapnewstv.co.kr/news/MYH20250714223718994\n",
      "[앵커] 올 여름 날씨가 심상치 않습니다. 역대급 폭염에 극한 폭우까지, 고온다습한 날씨가 이어지면서 서울 도심 한복판에서 바나나가 열리는 진풍경까지 벌어졌는데요. 기후변화로 국내에서도 아열대 과일 재배가 늘 거라는 전망이 나옵니다. 김도헌 기자가 바나나 농장에 다녀왔습니다. [기자] 커다란 이파리 사이로 초록색 바나나가 고개를 내밀었습니다. 평범한 외국산 바나나 같아 보이지만, 나무 뒤로 익숙한 아파트가 보입니다. 제가 나와 있는 이 곳...\n",
      "--------------------------------------------------------------------------------\n",
      "Mon, 14 Jul 2025 21:56:20 +0900 SK텔레콤, 위약금 면제 기간에 16만여명 이탈…KT·LGU+행\n",
      "https://www.yonhapnewstv.co.kr/news/AKR20250714215620209\n",
      "이동통신사 3사[연합뉴스TV 제공][연합뉴스TV 제공] SK텔레콤이 사이버 침해 사고 이후 가입자의 번호이동 위약금을 한시적으로 면제한 열흘 동안 16만6천여명의 고객이 다른 통신사로 이탈한 것으로 나타났습니다. 통신업계에 따르면 위약금 면제 마지막 날인 오늘(14일) SK텔레콤에서 다른 통신사로 옮긴 가입자는 총 4만2,027명이었습니다. 이 중 KT로 이동한 가입자가 2만1,593명, LG유플러스로 이동한 고객은 2만434명입니다. 면...\n",
      "--------------------------------------------------------------------------------\n",
      "Mon, 14 Jul 2025 21:28:29 +0900 K-방산, 2분기 '영업이익 1조' 돌파…유럽·중동 수출 호조\n",
      "https://www.yonhapnewstv.co.kr/news/MYH20250714212804199\n",
      "[앵커] 글로벌 무기 수요가 늘면서 우리 방산기업들의 분기 영업이익이 사상 처음으로 1조원을 돌파할 전망입니다. 수출 호조에 힘입어 중장기 성장 기대감도 커지고 있습니다. 김주영 기자입니다. [기자] 러시아-우크라이나 전쟁 이후 유럽의 재무장 흐름과 중동의 국방 수요 확대 등 글로벌 무기 수요가 늘면서 K-방산의 수출도 빠르게 늘고 있습니다. 수출 호조에 힘입어 방산 4사의 2분기 합산 영업이익은 1조원을 넘어설 전망입니다. 분기 기준 처...\n",
      "--------------------------------------------------------------------------------\n",
      "Mon, 14 Jul 2025 21:27:06 +0900 코스피, 3년 10개월만 3,200선 돌파…\"'5천피'도 가능\"\n",
      "https://www.yonhapnewstv.co.kr/news/MYH20250714212642933\n",
      "[앵커] 오늘(14일) 코스피가 3년 10개월 만에 3,200선에서 마감했습니다. 기업의 지배구조 개혁이 본격화하면 2년 내 지수 5,000포인트(p) 달성이 가능하다는 전망도 나왔습니다. 윤형섭 기자입니다. [기자] 코스피는 전장보다 0.83% 오른 3,202.03에 마감했습니다. 3,200선에서 마감한 것은 2021년 9월 이후 3년 10개월 만입니다. 약보합 출발한 코스피는 장중 상승 전환하더니 오름세를 키웠습니다. 개인과 기관이 팔...\n",
      "--------------------------------------------------------------------------------\n"
     ]
    }
   ],
   "source": [
    "import feedparser\n",
    "\n",
    "def fetch_yonhap_economy_news():\n",
    "    feed_url = \"http://www.yonhapnewstv.co.kr/category/news/economy/feed/\"\n",
    "    feed = feedparser.parse(feed_url)\n",
    "    news_list = []\n",
    "    for entry in feed.entries:\n",
    "        news = {\n",
    "            \"title\": entry.title,\n",
    "            \"link\": entry.link,\n",
    "            \"published\": entry.published,\n",
    "            \"summary\": entry.summary\n",
    "        }\n",
    "        news_list.append(news)\n",
    "    return news_list\n",
    "\n",
    "# 예시: 최신 5개 경제 뉴스 출력\n",
    "yonhap_news = fetch_yonhap_economy_news()\n",
    "for news in yonhap_news[:5]:\n",
    "    print(news[\"published\"], news[\"title\"])\n",
    "    print(news[\"link\"])\n",
    "    print(news[\"summary\"])\n",
    "    print(\"-\" * 80)"
   ]
  },
  {
   "cell_type": "markdown",
   "id": "882f9cb1",
   "metadata": {},
   "source": [
    "# EDGAR\n",
    "- https://api.edgarfiling.sec.gov/#tokens"
   ]
  },
  {
   "cell_type": "code",
   "execution_count": null,
   "id": "a948e6ed",
   "metadata": {},
   "outputs": [],
   "source": []
  }
 ],
 "metadata": {
  "kernelspec": {
   "display_name": ".venv",
   "language": "python",
   "name": "python3"
  },
  "language_info": {
   "codemirror_mode": {
    "name": "ipython",
    "version": 3
   },
   "file_extension": ".py",
   "mimetype": "text/x-python",
   "name": "python",
   "nbconvert_exporter": "python",
   "pygments_lexer": "ipython3",
   "version": "3.11.4"
  }
 },
 "nbformat": 4,
 "nbformat_minor": 5
}
