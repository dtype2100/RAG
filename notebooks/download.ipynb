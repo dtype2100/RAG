{
 "cells": [
  {
   "cell_type": "code",
   "execution_count": null,
   "id": "f2af0f7c",
   "metadata": {},
   "outputs": [],
   "source": [
    "from huggingface_hub import snapshot_download"
   ]
  },
  {
   "cell_type": "code",
   "execution_count": null,
   "id": "25e52d21",
   "metadata": {},
   "outputs": [],
   "source": [
    "# repo_id = \"LGAI-EXAONE/EXAONE-3.5-2.4B-Instruct-GGUF\"\n",
    "# local_dir = \"../AI/LGAI-EXAONE/EXAONE-3.5-2.4B-Instruct-GGUF\"\n",
    "# repo_id = \"dragonkue/multilingual-e5-small-ko\"\n",
    "repo_id = \"ggml-org/SmolLM3-3B-GGUF\"\n",
    "local_dir = \"../AI/llm/ggml-org/SmolLM3-3B-GGUF\""
   ]
  },
  {
   "cell_type": "code",
   "execution_count": null,
   "id": "90c3bbf8",
   "metadata": {},
   "outputs": [],
   "source": [
    "snapshot_download(\n",
    "    repo_id=repo_id,\n",
    "    local_dir=local_dir,\n",
    "    revision=\"main\"\n",
    ")"
   ]
  },
  {
   "cell_type": "code",
   "execution_count": null,
   "id": "6e6695e1",
   "metadata": {},
   "outputs": [],
   "source": []
  }
 ],
 "metadata": {
  "kernelspec": {
   "display_name": ".venv",
   "language": "python",
   "name": "python3"
  },
  "language_info": {
   "codemirror_mode": {
    "name": "ipython",
    "version": 3
   },
   "file_extension": ".py",
   "mimetype": "text/x-python",
   "name": "python",
   "nbconvert_exporter": "python",
   "pygments_lexer": "ipython3",
   "version": "3.11.4"
  }
 },
 "nbformat": 4,
 "nbformat_minor": 5
}
